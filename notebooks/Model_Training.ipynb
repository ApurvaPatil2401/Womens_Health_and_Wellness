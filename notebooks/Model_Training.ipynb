{
 "cells": [
  {
   "cell_type": "code",
<<<<<<< HEAD
   "execution_count": 17,
=======
   "execution_count": 21,
>>>>>>> cc872bc (Initial commit - PCOS Prediction Model)
   "metadata": {},
   "outputs": [
    {
     "name": "stdout",
     "output_type": "stream",
     "text": [
<<<<<<< HEAD
      "Cleaned column names: ['PCOS (Y/N)', 'Age (yrs)', 'Weight (Kg)', 'Height(Cm)', 'BMI', 'Blood Group', 'Pulse rate(bpm)', 'RR (breaths/min)', 'Hb(g/dl)', 'Cycle(R/I)', 'Cycle length(days)', 'Marraige Status (Yrs)', 'Pregnant(Y/N)', 'No. of abortions', 'I   beta-HCG(mIU/mL)', 'II    beta-HCG(mIU/mL)', 'FSH(mIU/mL)', 'LH(mIU/mL)', 'FSH/LH', 'Hip(inch)', 'Waist(inch)', 'Waist:Hip Ratio', 'TSH (mIU/L)', 'AMH(ng/mL)', 'PRL(ng/mL)', 'Vit D3 (ng/mL)', 'PRG(ng/mL)', 'RBS(mg/dl)', 'Weight gain(Y/N)', 'hair growth(Y/N)', 'Skin darkening (Y/N)', 'Hair loss(Y/N)', 'Pimples(Y/N)', 'Fast food (Y/N)', 'Reg.Exercise(Y/N)', 'BP _Systolic (mmHg)', 'BP _Diastolic (mmHg)', 'Follicle No. (L)', 'Follicle No. (R)', 'Avg. F size (L) (mm)', 'Avg. F size (R) (mm)', 'Endometrium (mm)', 'Unnamed: 44']\n",
      "Final selected columns: ['Age (yrs)', 'Weight (Kg)', 'Height(Cm)', 'BMI', 'Reg.Exercise(Y/N)']\n",
      "Clusters assigned: [1 2 0]\n",
      "Model training complete and saved.\n",
      "Loaded model trained on features: ['Age (yrs)', 'Weight (Kg)', 'Height(Cm)', 'BMI', 'Reg.Exercise(Y/N)']\n",
      "Loaded model type: <class 'sklearn.mixture._gaussian_mixture.GaussianMixture'>\n",
      "Predicted clusters: [1 1 1 1 1]\n"
     ]
    },
    {
     "name": "stderr",
     "output_type": "stream",
     "text": [
      "d:\\Health_and_Wellness\\./backend\\preprocess.py:9: FutureWarning: DataFrame.applymap has been deprecated. Use DataFrame.map instead.\n",
      "  df = df.applymap(lambda x: str(x).replace(\".\", \"\", 1) if isinstance(x, str) else x)\n"
=======
      "✅ Scaler trained and saved to d:\\H&W\\backend\\../models/scaler.pkl\n",
      "✅ Model training complete.\n",
      "Cluster Counts: [185 222 133]\n",
      "🔍 PCA Explained Variance: [0.3469279  0.16673278 0.15001835 0.13455761 0.11014858 0.02956427]\n"
>>>>>>> cc872bc (Initial commit - PCOS Prediction Model)
     ]
    }
   ],
   "source": [
    "import os\n",
<<<<<<< HEAD
    "import sys\n",
    "import pickle\n",
    "from sklearn.mixture import GaussianMixture\n",
    "from preprocess import preprocess_data\n",
    "\n",
    "# Set project directory\n",
    "os.chdir(\"d:/Health_and_Wellness/\")  \n",
    "sys.path.append(\"./backend\")  \n",
    "\n",
    "# Load dataset\n",
    "df = preprocess_data(\"dataset/pcos_data.csv\")\n",
    "df.columns = df.columns.str.strip()  # Remove spaces\n",
    "\n",
    "# Debug: Print cleaned column names\n",
    "print(\"Cleaned column names:\", df.columns.tolist())\n",
    "\n",
    "# Define expected feature names\n",
    "feature_names = [\"Age (yrs)\", \"Weight (Kg)\", \"Height(Cm)\", \"BMI\", \"Reg.Exercise(Y/N)\"]\n",
    "\n",
    "# Ensure only available columns are selected\n",
    "existing_columns = [col for col in feature_names if col in df.columns]\n",
    "df = df[existing_columns]\n",
    "\n",
    "print(\"Final selected columns:\", df.columns.tolist())\n",
    "\n",
    "# Train GMM Model\n",
    "# Train GMM Model\n",
    "num_clusters = 3\n",
    "gmm = GaussianMixture(n_components=num_clusters, random_state=42)\n",
    "\n",
    "# ✅ Fit model using only original features\n",
    "df[\"Cluster_GMM\"] = gmm.fit_predict(df[existing_columns])\n",
    "\n",
    "print(\"Clusters assigned:\", df[\"Cluster_GMM\"].unique())\n",
    "\n",
    "# ✅ Save model correctly (model + feature names)\n",
    "with open(\"models/pcos_gmm_model.pkl\", \"wb\") as file:\n",
    "    pickle.dump((gmm, existing_columns), file)  # Save only original feature names\n",
    "\n",
    "print(\"Model training complete and saved.\")\n",
    "\n",
    "# ✅ Load model correctly\n",
    "with open(\"models/pcos_gmm_model.pkl\", \"rb\") as file:\n",
    "    loaded_model, loaded_features = pickle.load(file)  # Unpack correctly\n",
    "\n",
    "# Debug: Check loaded model type\n",
    "print(\"Loaded model trained on features:\", loaded_features)\n",
    "print(\"Loaded model type:\", type(loaded_model))\n",
    "\n",
    "# ✅ Ensure model can predict\n",
    "if isinstance(loaded_model, GaussianMixture):\n",
    "    sample_input = df[loaded_features].iloc[:5]  # Select test data using correct features\n",
    "    predictions = loaded_model.predict(sample_input)\n",
    "    print(\"Predicted clusters:\", predictions)\n",
    "else:\n",
    "    print(\"Error: Model did not load correctly.\")\n"
=======
    "import pickle\n",
    "import numpy as np\n",
    "import pandas as pd\n",
    "from sklearn.mixture import GaussianMixture\n",
    "from sklearn.preprocessing import StandardScaler\n",
    "from sklearn.decomposition import PCA\n",
    "from scipy.cluster.hierarchy import linkage, fcluster\n",
    "from backend.preprocess import preprocess_data\n",
    "from sklearn.preprocessing import MinMaxScaler\n",
    "\n",
    "df = preprocess_data(\"dataset/pcos_data.csv\", train=True)\n",
    "feature_names = [\n",
    "    \"Age (yrs)\", \"Weight (Kg)\", \"Height(Cm)\", \"BMI\", \"Reg.Exercise(Y/N)\", \n",
    "    \"Hair loss(Y/N)\", \"Pimples(Y/N)\", \"Skin darkening (Y/N)\", \"Fast food (Y/N)\",\n",
    "    \"BMI*FastFood\", \"Exercise*HairLoss\"\n",
    "]\n",
    "df = df[feature_names]\n",
    "scaler = MinMaxScaler()\n",
    "df_scaled = scaler.fit_transform(df)\n",
    "pca = PCA(n_components=6)\n",
    "df_pca = pca.fit_transform(df_scaled)\n",
    "linkage_matrix = linkage(df_pca, method='ward')\n",
    "df[\"Cluster_HC\"] = fcluster(linkage_matrix, t=3, criterion='maxclust')\n",
    "gmm = GaussianMixture(n_components=3, covariance_type='tied', random_state=42, n_init=50, weights_init=[1/3, 1/3, 1/3])\n",
    "df[\"Cluster_GMM\"] = gmm.fit_predict(df_pca)\n",
    "with open(\"models/pcos_gmm_model.pkl\", \"wb\") as file:\n",
    "    pickle.dump((gmm, pca, feature_names), file)\n",
    "print(\"✅ Model training complete.\")\n",
    "print(\"Cluster Counts:\", np.bincount(df[\"Cluster_GMM\"]))\n",
    "print(\"🔍 PCA Explained Variance:\", pca.explained_variance_ratio_)\n",
    "\n"
>>>>>>> cc872bc (Initial commit - PCOS Prediction Model)
   ]
  },
  {
   "cell_type": "code",
<<<<<<< HEAD
   "execution_count": 13,
=======
   "execution_count": 12,
>>>>>>> cc872bc (Initial commit - PCOS Prediction Model)
   "metadata": {},
   "outputs": [
    {
     "name": "stdout",
     "output_type": "stream",
     "text": [
<<<<<<< HEAD
      "Model exists: True\n"
=======
      "Scaled Values: [[0.35714286 0.63636364 0.41860465 0.78490566 0.         1.\n",
      "  1.         1.         1.         0.85347044 0.        ]]\n"
>>>>>>> cc872bc (Initial commit - PCOS Prediction Model)
     ]
    }
   ],
   "source": [
<<<<<<< HEAD
    "import os\n",
    "print(\"Model exists:\", os.path.exists(\"models/pcos_gmm_model.pkl\"))\n"
=======
    "import pickle\n",
    "import numpy as np\n",
    "import pandas as pd\n",
    "\n",
    "# Load the saved scaler\n",
    "with open(\"models/scaler.pkl\", \"rb\") as f:\n",
    "    scaler = pickle.load(f)\n",
    "\n",
    "# Define feature names (must match training features)\n",
    "feature_names = [\n",
    "    \"Age (yrs)\", \"Weight (Kg)\", \"Height(Cm)\", \"BMI\", \n",
    "    \"Reg.Exercise(Y/N)\", \"Hair loss(Y/N)\", \"Pimples(Y/N)\", \n",
    "    \"Skin darkening (Y/N)\", \"Fast food (Y/N)\", \"BMI*FastFood\", \"Exercise*HairLoss\"\n",
    "]\n",
    "\n",
    "# Convert sample input to DataFrame with correct column names\n",
    "sample_input = pd.DataFrame([[30, 80, 155, 33.2, 0, 1, 1, 1, 1, 33.2, 0]], columns=feature_names)\n",
    "\n",
    "# Apply scaling\n",
    "scaled_output = scaler.transform(sample_input)\n",
    "print(\"Scaled Values:\", scaled_output)\n"
>>>>>>> cc872bc (Initial commit - PCOS Prediction Model)
   ]
  },
  {
   "cell_type": "code",
<<<<<<< HEAD
   "execution_count": 2,
=======
   "execution_count": 7,
>>>>>>> cc872bc (Initial commit - PCOS Prediction Model)
   "metadata": {},
   "outputs": [
    {
     "name": "stdout",
     "output_type": "stream",
     "text": [
<<<<<<< HEAD
      "d:\\Health_and_Wellness\\notebooks\n"
=======
      "Scaler data loaded successfully: {'scaler': StandardScaler(), 'features': ['Age (yrs)', 'Weight (Kg)', 'Height(Cm)', 'BMI', 'Reg.Exercise(Y/N)', 'Hair loss(Y/N)', 'Pimples(Y/N)', 'Skin darkening (Y/N)', 'Fast food (Y/N)']}\n"
>>>>>>> cc872bc (Initial commit - PCOS Prediction Model)
     ]
    }
   ],
   "source": [
<<<<<<< HEAD
    "import os\n",
    "print(os.getcwd())  # ✅ This shows the current directory\n"
=======
    "import pickle\n",
    "\n",
    "with open(\"D:/H&W/models/scaler.pkl\", \"rb\") as f:\n",
    "    data = pickle.load(f)\n",
    "\n",
    "print(\"Scaler data loaded successfully:\", data)\n"
   ]
  },
  {
   "cell_type": "code",
   "execution_count": 11,
   "metadata": {},
   "outputs": [
    {
     "data": {
      "text/html": [
       "<div>\n",
       "<style scoped>\n",
       "    .dataframe tbody tr th:only-of-type {\n",
       "        vertical-align: middle;\n",
       "    }\n",
       "\n",
       "    .dataframe tbody tr th {\n",
       "        vertical-align: top;\n",
       "    }\n",
       "\n",
       "    .dataframe thead th {\n",
       "        text-align: right;\n",
       "    }\n",
       "</style>\n",
       "<table border=\"1\" class=\"dataframe\">\n",
       "  <thead>\n",
       "    <tr style=\"text-align: right;\">\n",
       "      <th></th>\n",
       "      <th>Age (yrs)</th>\n",
       "      <th>Weight (Kg)</th>\n",
       "      <th>Height(Cm)</th>\n",
       "      <th>BMI</th>\n",
       "      <th>Reg.Exercise(Y/N)</th>\n",
       "      <th>Hair loss(Y/N)</th>\n",
       "      <th>Pimples(Y/N)</th>\n",
       "      <th>Skin darkening (Y/N)</th>\n",
       "      <th>Fast food (Y/N)</th>\n",
       "      <th>Cluster_GMM</th>\n",
       "    </tr>\n",
       "  </thead>\n",
       "  <tbody>\n",
       "    <tr>\n",
       "      <th>count</th>\n",
       "      <td>5.410000e+02</td>\n",
       "      <td>5.410000e+02</td>\n",
       "      <td>5.410000e+02</td>\n",
       "      <td>5.410000e+02</td>\n",
       "      <td>5.410000e+02</td>\n",
       "      <td>5.410000e+02</td>\n",
       "      <td>5.410000e+02</td>\n",
       "      <td>5.410000e+02</td>\n",
       "      <td>5.410000e+02</td>\n",
       "      <td>541.000000</td>\n",
       "    </tr>\n",
       "    <tr>\n",
       "      <th>mean</th>\n",
       "      <td>-1.608900e-16</td>\n",
       "      <td>-7.026624e-16</td>\n",
       "      <td>-1.001458e-16</td>\n",
       "      <td>8.537020e-17</td>\n",
       "      <td>-1.313388e-17</td>\n",
       "      <td>1.313388e-17</td>\n",
       "      <td>2.626775e-17</td>\n",
       "      <td>-2.298428e-17</td>\n",
       "      <td>-3.940163e-17</td>\n",
       "      <td>1.645102</td>\n",
       "    </tr>\n",
       "    <tr>\n",
       "      <th>std</th>\n",
       "      <td>1.000925e+00</td>\n",
       "      <td>1.000925e+00</td>\n",
       "      <td>1.000925e+00</td>\n",
       "      <td>1.000925e+00</td>\n",
       "      <td>1.000925e+00</td>\n",
       "      <td>1.000925e+00</td>\n",
       "      <td>1.000925e+00</td>\n",
       "      <td>1.000925e+00</td>\n",
       "      <td>1.000925e+00</td>\n",
       "      <td>0.814066</td>\n",
       "    </tr>\n",
       "    <tr>\n",
       "      <th>min</th>\n",
       "      <td>-2.114443e+00</td>\n",
       "      <td>-2.599103e+00</td>\n",
       "      <td>-3.232407e+00</td>\n",
       "      <td>-2.939142e+00</td>\n",
       "      <td>-5.737929e-01</td>\n",
       "      <td>-9.097817e-01</td>\n",
       "      <td>-9.798699e-01</td>\n",
       "      <td>-6.653320e-01</td>\n",
       "      <td>-1.031933e+00</td>\n",
       "      <td>0.000000</td>\n",
       "    </tr>\n",
       "    <tr>\n",
       "      <th>25%</th>\n",
       "      <td>-6.346064e-01</td>\n",
       "      <td>-6.931468e-01</td>\n",
       "      <td>-7.440048e-01</td>\n",
       "      <td>-6.683103e-01</td>\n",
       "      <td>-5.737929e-01</td>\n",
       "      <td>-9.097817e-01</td>\n",
       "      <td>-9.798699e-01</td>\n",
       "      <td>-6.653320e-01</td>\n",
       "      <td>-1.031933e+00</td>\n",
       "      <td>1.000000</td>\n",
       "    </tr>\n",
       "    <tr>\n",
       "      <th>50%</th>\n",
       "      <td>-7.966773e-02</td>\n",
       "      <td>-5.782794e-02</td>\n",
       "      <td>-8.043103e-02</td>\n",
       "      <td>-2.655356e-02</td>\n",
       "      <td>-5.737929e-01</td>\n",
       "      <td>-9.097817e-01</td>\n",
       "      <td>-9.798699e-01</td>\n",
       "      <td>-6.653320e-01</td>\n",
       "      <td>9.690553e-01</td>\n",
       "      <td>1.000000</td>\n",
       "    </tr>\n",
       "    <tr>\n",
       "      <th>75%</th>\n",
       "      <td>6.602505e-01</td>\n",
       "      <td>4.867311e-01</td>\n",
       "      <td>5.831428e-01</td>\n",
       "      <td>5.658372e-01</td>\n",
       "      <td>-5.737929e-01</td>\n",
       "      <td>1.099165e+00</td>\n",
       "      <td>1.020544e+00</td>\n",
       "      <td>1.503009e+00</td>\n",
       "      <td>9.690553e-01</td>\n",
       "      <td>2.000000</td>\n",
       "    </tr>\n",
       "    <tr>\n",
       "      <th>max</th>\n",
       "      <td>3.064985e+00</td>\n",
       "      <td>4.389404e+00</td>\n",
       "      <td>3.901012e+00</td>\n",
       "      <td>3.601840e+00</td>\n",
       "      <td>1.742789e+00</td>\n",
       "      <td>1.099165e+00</td>\n",
       "      <td>1.020544e+00</td>\n",
       "      <td>1.503009e+00</td>\n",
       "      <td>9.690553e-01</td>\n",
       "      <td>3.000000</td>\n",
       "    </tr>\n",
       "  </tbody>\n",
       "</table>\n",
       "</div>"
      ],
      "text/plain": [
       "          Age (yrs)   Weight (Kg)    Height(Cm)           BMI  \\\n",
       "count  5.410000e+02  5.410000e+02  5.410000e+02  5.410000e+02   \n",
       "mean  -1.608900e-16 -7.026624e-16 -1.001458e-16  8.537020e-17   \n",
       "std    1.000925e+00  1.000925e+00  1.000925e+00  1.000925e+00   \n",
       "min   -2.114443e+00 -2.599103e+00 -3.232407e+00 -2.939142e+00   \n",
       "25%   -6.346064e-01 -6.931468e-01 -7.440048e-01 -6.683103e-01   \n",
       "50%   -7.966773e-02 -5.782794e-02 -8.043103e-02 -2.655356e-02   \n",
       "75%    6.602505e-01  4.867311e-01  5.831428e-01  5.658372e-01   \n",
       "max    3.064985e+00  4.389404e+00  3.901012e+00  3.601840e+00   \n",
       "\n",
       "       Reg.Exercise(Y/N)  Hair loss(Y/N)  Pimples(Y/N)  Skin darkening (Y/N)  \\\n",
       "count       5.410000e+02    5.410000e+02  5.410000e+02          5.410000e+02   \n",
       "mean       -1.313388e-17    1.313388e-17  2.626775e-17         -2.298428e-17   \n",
       "std         1.000925e+00    1.000925e+00  1.000925e+00          1.000925e+00   \n",
       "min        -5.737929e-01   -9.097817e-01 -9.798699e-01         -6.653320e-01   \n",
       "25%        -5.737929e-01   -9.097817e-01 -9.798699e-01         -6.653320e-01   \n",
       "50%        -5.737929e-01   -9.097817e-01 -9.798699e-01         -6.653320e-01   \n",
       "75%        -5.737929e-01    1.099165e+00  1.020544e+00          1.503009e+00   \n",
       "max         1.742789e+00    1.099165e+00  1.020544e+00          1.503009e+00   \n",
       "\n",
       "       Fast food (Y/N)  Cluster_GMM  \n",
       "count     5.410000e+02   541.000000  \n",
       "mean     -3.940163e-17     1.645102  \n",
       "std       1.000925e+00     0.814066  \n",
       "min      -1.031933e+00     0.000000  \n",
       "25%      -1.031933e+00     1.000000  \n",
       "50%       9.690553e-01     1.000000  \n",
       "75%       9.690553e-01     2.000000  \n",
       "max       9.690553e-01     3.000000  "
      ]
     },
     "execution_count": 11,
     "metadata": {},
     "output_type": "execute_result"
    }
   ],
   "source": [
    "df.describe()  # Check feature ranges\n"
>>>>>>> cc872bc (Initial commit - PCOS Prediction Model)
   ]
  },
  {
   "cell_type": "code",
   "execution_count": 3,
   "metadata": {},
   "outputs": [
    {
     "name": "stdout",
     "output_type": "stream",
     "text": [
<<<<<<< HEAD
      "['d:\\\\Apurva\\\\python310.zip', 'd:\\\\Apurva\\\\DLLs', 'd:\\\\Apurva\\\\lib', 'd:\\\\Apurva', '', 'd:\\\\Apurva\\\\lib\\\\site-packages', 'd:\\\\Apurva\\\\lib\\\\site-packages\\\\win32', 'd:\\\\Apurva\\\\lib\\\\site-packages\\\\win32\\\\lib', 'd:\\\\Apurva\\\\lib\\\\site-packages\\\\Pythonwin', './backend', './backend']\n"
=======
      "Model exists: False\n"
     ]
    }
   ],
   "source": [
    "import os\n",
    "print(\"Model exists:\", os.path.exists(\"models/pcos_gmm_model.pkl\"))\n"
   ]
  },
  {
   "cell_type": "code",
   "execution_count": 9,
   "metadata": {},
   "outputs": [
    {
     "name": "stdout",
     "output_type": "stream",
     "text": [
      "d:\\H&W\n"
     ]
    }
   ],
   "source": [
    "import os\n",
    "print(os.getcwd())  # ✅ This shows the current directory\n"
   ]
  },
  {
   "cell_type": "code",
   "execution_count": 8,
   "metadata": {},
   "outputs": [],
   "source": [
    "import os\n",
    "os.chdir(\"d:/H&W/\")\n"
   ]
  },
  {
   "cell_type": "code",
   "execution_count": 4,
   "metadata": {},
   "outputs": [
    {
     "name": "stdout",
     "output_type": "stream",
     "text": [
      "['d:\\\\Apurva\\\\python310.zip', 'd:\\\\Apurva\\\\DLLs', 'd:\\\\Apurva\\\\lib', 'd:\\\\Apurva', '', 'd:\\\\Apurva\\\\lib\\\\site-packages', 'd:\\\\Apurva\\\\lib\\\\site-packages\\\\win32', 'd:\\\\Apurva\\\\lib\\\\site-packages\\\\win32\\\\lib', 'd:\\\\Apurva\\\\lib\\\\site-packages\\\\Pythonwin', './backend']\n"
>>>>>>> cc872bc (Initial commit - PCOS Prediction Model)
     ]
    }
   ],
   "source": [
    "import sys\n",
    "sys.path.append(\"./backend\")  # Add backend folder\n",
    "\n",
    "print(sys.path)  # ✅ Check if \"./backend\" is listed\n"
   ]
  },
  {
   "cell_type": "code",
<<<<<<< HEAD
   "execution_count": 4,
=======
   "execution_count": null,
>>>>>>> cc872bc (Initial commit - PCOS Prediction Model)
   "metadata": {},
   "outputs": [
    {
     "name": "stdout",
     "output_type": "stream",
     "text": [
      "False\n"
     ]
    }
   ],
   "source": [
    "import os\n",
    "print(os.path.exists(\"backend/preprocess.py\"))  # ✅ Should print True\n"
   ]
  }
 ],
 "metadata": {
  "kernelspec": {
   "display_name": "Python 3",
   "language": "python",
   "name": "python3"
  },
  "language_info": {
   "codemirror_mode": {
    "name": "ipython",
    "version": 3
   },
   "file_extension": ".py",
   "mimetype": "text/x-python",
   "name": "python",
   "nbconvert_exporter": "python",
   "pygments_lexer": "ipython3",
   "version": "3.10.10"
  }
 },
 "nbformat": 4,
 "nbformat_minor": 2
}
