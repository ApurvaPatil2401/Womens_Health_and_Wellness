{
 "cells": [
  {
   "cell_type": "code",
   "execution_count": 24,
   "metadata": {},
   "outputs": [
    {
     "name": "stdout",
     "output_type": "stream",
     "text": [
      "✅ Scaler trained and saved to d:\\H&W\\backend\\../models/scaler.pkl\n",
      "Model training complete.\n",
      "Cluster Counts: [185 222 133]\n",
      "PCA Explained Variance: [0.3469279  0.16673278 0.15001835 0.13455761 0.11014858 0.02956427]\n"
     ]
    }
   ],
   "source": [
    "import os\n",
    "import pickle\n",
    "import numpy as np\n",
    "import pandas as pd\n",
    "from sklearn.mixture import GaussianMixture\n",
    "from sklearn.preprocessing import StandardScaler\n",
    "from sklearn.decomposition import PCA\n",
    "from scipy.cluster.hierarchy import linkage, fcluster\n",
    "from backend.preprocess import preprocess_data\n",
    "from sklearn.preprocessing import MinMaxScaler\n",
    "\n",
    "df = preprocess_data(\"dataset/pcos_data.csv\", train=True)\n",
    "feature_names = [\n",
    "    \"Age (yrs)\", \"Weight (Kg)\", \"Height(Cm)\", \"BMI\", \"Reg.Exercise(Y/N)\", \n",
    "    \"Hair loss(Y/N)\", \"Pimples(Y/N)\", \"Skin darkening (Y/N)\", \"Fast food (Y/N)\",\n",
    "    \"BMI*FastFood\", \"Exercise*HairLoss\"\n",
    "]\n",
    "df = df[feature_names]\n",
    "scaler = MinMaxScaler()\n",
    "df_scaled = scaler.fit_transform(df)\n",
    "pca = PCA(n_components=6)\n",
    "df_pca = pca.fit_transform(df_scaled)\n",
    "linkage_matrix = linkage(df_pca, method='ward')\n",
    "df[\"Cluster_HC\"] = fcluster(linkage_matrix, t=3, criterion='maxclust')\n",
    "gmm = GaussianMixture(n_components=3, covariance_type='tied', random_state=42, n_init=50, weights_init=[1/3, 1/3, 1/3])\n",
    "df[\"Cluster_GMM\"] = gmm.fit_predict(df_pca)\n",
    "with open(\"models/pcos_gmm_model.pkl\", \"wb\") as file:\n",
    "    pickle.dump((gmm, pca, feature_names), file)\n",
    "print(\"Model training complete.\")\n",
    "print(\"Cluster Counts:\", np.bincount(df[\"Cluster_GMM\"]))\n",
    "print(\"PCA Explained Variance:\", pca.explained_variance_ratio_)\n"
   ]
  },
  {
   "cell_type": "code",
   "execution_count": 17,
   "metadata": {},
   "outputs": [
    {
     "name": "stdout",
     "output_type": "stream",
     "text": [
      "Contents of the model file: <class 'tuple'>\n",
      "Number of elements in the file: 3\n",
      "Element 1: Type=<class 'sklearn.mixture._gaussian_mixture.GaussianMixture'>\n",
      "Element 2: Type=<class 'sklearn.decomposition._pca.PCA'>\n",
      "Element 3: Type=<class 'list'>\n"
     ]
    }
   ],
   "source": [
    "import pickle\n",
    "\n",
    "model_path = \"models/pcos_gmm_model.pkl\"\n",
    "\n",
    "# Open the file and inspect its contents\n",
    "with open(model_path, \"rb\") as file:\n",
    "    loaded_data = pickle.load(file)\n",
    "\n",
    "print(\"Contents of the model file:\", type(loaded_data))\n",
    "print(\"Number of elements in the file:\", len(loaded_data) if isinstance(loaded_data, tuple) else \"Not a tuple\")\n",
    "\n",
    "# Print each element if it's a tuple\n",
    "if isinstance(loaded_data, tuple):\n",
    "    for idx, item in enumerate(loaded_data):\n",
    "        print(f\"Element {idx+1}: Type={type(item)}\")\n"
   ]
  },
  {
   "cell_type": "code",
   "execution_count": 50,
   "metadata": {},
   "outputs": [
    {
     "name": "stdout",
     "output_type": "stream",
     "text": [
      "Model exists: True\n"
     ]
    }
   ],
   "source": [
    "import os\n",
    "print(\"Model exists:\", os.path.exists(\"models/pcos_gmm_model.pkl\"))\n"
   ]
  },
  {
   "cell_type": "code",
   "execution_count": 9,
   "metadata": {},
   "outputs": [
    {
     "name": "stdout",
     "output_type": "stream",
     "text": [
      "d:\\H&W\n"
     ]
    }
   ],
   "source": [
    "import os\n",
    "print(os.getcwd())  # ✅ This shows the current directory\n"
   ]
  },
  {
   "cell_type": "code",
   "execution_count": 8,
   "metadata": {},
   "outputs": [
    {
     "name": "stdout",
     "output_type": "stream",
     "text": [
      "None\n"
     ]
    }
   ],
   "source": [
    "import os\n",
    "print(os.chdir(\"d:/H&W/\"))  # ✅ This changes the current directory"
   ]
  }
 ],
 "metadata": {
  "kernelspec": {
   "display_name": "Python 3",
   "language": "python",
   "name": "python3"
  },
  "language_info": {
   "codemirror_mode": {
    "name": "ipython",
    "version": 3
   },
   "file_extension": ".py",
   "mimetype": "text/x-python",
   "name": "python",
   "nbconvert_exporter": "python",
   "pygments_lexer": "ipython3",
   "version": "3.10.10"
  }
 },
 "nbformat": 4,
 "nbformat_minor": 2
}
