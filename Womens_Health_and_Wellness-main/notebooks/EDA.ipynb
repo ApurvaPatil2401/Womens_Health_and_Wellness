{
 "cells": [
  {
   "cell_type": "code",
   "execution_count": 1,
   "metadata": {},
   "outputs": [],
   "source": [
    "import pandas as pd\n",
    "from sklearn.preprocessing import StandardScaler, LabelEncoder\n",
    "\n",
    "def preprocess_data(file_path):\n",
    "    df = pd.read_csv(file_path)\n",
    "\n",
    "    # Drop unnecessary columns (modify if needed)\n",
    "    drop_columns = [\"Sl. No\", \"Patient File No.\"]\n",
    "    df.drop(columns=[col for col in drop_columns if col in df.columns], inplace=True, errors=\"ignore\")\n",
    "\n",
    "    # Convert all values to numeric (forcing errors='coerce' to convert non-numeric values to NaN)\n",
    "    df = df.apply(pd.to_numeric, errors='coerce')\n",
    "\n",
    "    # Handle missing values (fill with median)\n",
    "    df.fillna(df.median(numeric_only=True), inplace=True)\n",
    "\n",
    "    # Encode categorical features (if any categorical columns exist)\n",
    "    encoder = LabelEncoder()\n",
    "    categorical_cols = [\"Skin darkening (Y/N)\", \"hair growth(Y/N)\", \"Weight gain(Y/N)\", \n",
    "                        \"Pimples(Y/N)\", \"Hair loss(Y/N)\", \"Reg.Exercise(Y/N)\", \n",
    "                        \"Fast food (Y/N)\", \"Pregnant(Y/N)\"]\n",
    "    \n",
    "    for col in categorical_cols:\n",
    "        if col in df.columns:  # Only encode if the column exists\n",
    "            df[col] = encoder.fit_transform(df[col].astype(str))  # Convert to string before encoding\n",
    "\n",
    "    # Normalize numerical features\n",
    "    scaler = StandardScaler()\n",
    "    numerical_cols = df.select_dtypes(include=[\"number\"]).columns.tolist()\n",
    "    df[numerical_cols] = scaler.fit_transform(df[numerical_cols])\n",
    "    print(df.head())\n",
    "    return df\n",
    "\n"
   ]
  },
  {
   "cell_type": "code",
   "execution_count": 2,
   "metadata": {},
   "outputs": [],
   "source": [
    "import pandas as pd\n",
    "from sklearn.preprocessing import StandardScaler, LabelEncoder\n",
    "\n",
    "def preprocess_data(file_path):\n",
    "    df = pd.read_csv(file_path)\n",
    "\n",
    "    # Drop unnecessary columns\n",
    "    drop_columns = [\"Sl. No\", \"Patient File No.\"]\n",
    "    df.drop(columns=[col for col in drop_columns if col in df.columns], inplace=True, errors=\"ignore\")\n",
    "\n",
    "    # Convert all values to numeric\n",
    "    df = df.apply(pd.to_numeric, errors='coerce')\n",
    "\n",
    "    # Handle missing values (fill with median)\n",
    "    df.fillna(df.median(numeric_only=True), inplace=True)\n",
    "\n",
    "    # Encode categorical features\n",
    "    encoder = LabelEncoder()\n",
    "    categorical_cols = [\"Skin darkening (Y/N)\", \"hair growth(Y/N)\", \"Weight gain(Y/N)\", \n",
    "                        \"Pimples(Y/N)\", \"Hair loss(Y/N)\", \"Reg.Exercise(Y/N)\", \n",
    "                        \"Fast food (Y/N)\", \"Pregnant(Y/N)\"]\n",
    "    \n",
    "    for col in categorical_cols:\n",
    "        if col in df.columns:\n",
    "            df[col] = encoder.fit_transform(df[col].astype(str))\n",
    "\n",
    "    # Normalize numerical features\n",
    "    scaler = StandardScaler()\n",
    "    numerical_cols = df.select_dtypes(include=[\"number\"]).columns.tolist()\n",
    "    df[numerical_cols] = scaler.fit_transform(df[numerical_cols])\n",
    "    \n",
    "    return df\n"
   ]
  }
 ],
 "metadata": {
  "kernelspec": {
   "display_name": "Python 3",
   "language": "python",
   "name": "python3"
  },
  "language_info": {
   "codemirror_mode": {
    "name": "ipython",
    "version": 3
   },
   "file_extension": ".py",
   "mimetype": "text/x-python",
   "name": "python",
   "nbconvert_exporter": "python",
   "pygments_lexer": "ipython3",
   "version": "3.10.10"
  }
 },
 "nbformat": 4,
 "nbformat_minor": 2
}
