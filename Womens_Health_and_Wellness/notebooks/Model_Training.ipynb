{
 "cells": [
  {
   "cell_type": "code",
   "execution_count": 17,
   "metadata": {},
   "outputs": [
    {
     "name": "stdout",
     "output_type": "stream",
     "text": [
      "Cleaned column names: ['PCOS (Y/N)', 'Age (yrs)', 'Weight (Kg)', 'Height(Cm)', 'BMI', 'Blood Group', 'Pulse rate(bpm)', 'RR (breaths/min)', 'Hb(g/dl)', 'Cycle(R/I)', 'Cycle length(days)', 'Marraige Status (Yrs)', 'Pregnant(Y/N)', 'No. of abortions', 'I   beta-HCG(mIU/mL)', 'II    beta-HCG(mIU/mL)', 'FSH(mIU/mL)', 'LH(mIU/mL)', 'FSH/LH', 'Hip(inch)', 'Waist(inch)', 'Waist:Hip Ratio', 'TSH (mIU/L)', 'AMH(ng/mL)', 'PRL(ng/mL)', 'Vit D3 (ng/mL)', 'PRG(ng/mL)', 'RBS(mg/dl)', 'Weight gain(Y/N)', 'hair growth(Y/N)', 'Skin darkening (Y/N)', 'Hair loss(Y/N)', 'Pimples(Y/N)', 'Fast food (Y/N)', 'Reg.Exercise(Y/N)', 'BP _Systolic (mmHg)', 'BP _Diastolic (mmHg)', 'Follicle No. (L)', 'Follicle No. (R)', 'Avg. F size (L) (mm)', 'Avg. F size (R) (mm)', 'Endometrium (mm)', 'Unnamed: 44']\n",
      "Final selected columns: ['Age (yrs)', 'Weight (Kg)', 'Height(Cm)', 'BMI', 'Reg.Exercise(Y/N)']\n",
      "Clusters assigned: [1 2 0]\n",
      "Model training complete and saved.\n",
      "Loaded model trained on features: ['Age (yrs)', 'Weight (Kg)', 'Height(Cm)', 'BMI', 'Reg.Exercise(Y/N)']\n",
      "Loaded model type: <class 'sklearn.mixture._gaussian_mixture.GaussianMixture'>\n",
      "Predicted clusters: [1 1 1 1 1]\n"
     ]
    },
    {
     "name": "stderr",
     "output_type": "stream",
     "text": [
      "d:\\Health_and_Wellness\\./backend\\preprocess.py:9: FutureWarning: DataFrame.applymap has been deprecated. Use DataFrame.map instead.\n",
      "  df = df.applymap(lambda x: str(x).replace(\".\", \"\", 1) if isinstance(x, str) else x)\n"
     ]
    }
   ],
   "source": [
    "import os\n",
    "import sys\n",
    "import pickle\n",
    "from sklearn.mixture import GaussianMixture\n",
    "from preprocess import preprocess_data\n",
    "\n",
    "# Set project directory\n",
    "os.chdir(\"d:/Health_and_Wellness/\")  \n",
    "sys.path.append(\"./backend\")  \n",
    "\n",
    "# Load dataset\n",
    "df = preprocess_data(\"dataset/pcos_data.csv\")\n",
    "df.columns = df.columns.str.strip()  # Remove spaces\n",
    "\n",
    "# Debug: Print cleaned column names\n",
    "print(\"Cleaned column names:\", df.columns.tolist())\n",
    "\n",
    "# Define expected feature names\n",
    "feature_names = [\"Age (yrs)\", \"Weight (Kg)\", \"Height(Cm)\", \"BMI\", \"Reg.Exercise(Y/N)\"]\n",
    "\n",
    "# Ensure only available columns are selected\n",
    "existing_columns = [col for col in feature_names if col in df.columns]\n",
    "df = df[existing_columns]\n",
    "\n",
    "print(\"Final selected columns:\", df.columns.tolist())\n",
    "\n",
    "# Train GMM Model\n",
    "# Train GMM Model\n",
    "num_clusters = 3\n",
    "gmm = GaussianMixture(n_components=num_clusters, random_state=42)\n",
    "\n",
    "# ✅ Fit model using only original features\n",
    "df[\"Cluster_GMM\"] = gmm.fit_predict(df[existing_columns])\n",
    "\n",
    "print(\"Clusters assigned:\", df[\"Cluster_GMM\"].unique())\n",
    "\n",
    "# ✅ Save model correctly (model + feature names)\n",
    "with open(\"models/pcos_gmm_model.pkl\", \"wb\") as file:\n",
    "    pickle.dump((gmm, existing_columns), file)  # Save only original feature names\n",
    "\n",
    "print(\"Model training complete and saved.\")\n",
    "\n",
    "# ✅ Load model correctly\n",
    "with open(\"models/pcos_gmm_model.pkl\", \"rb\") as file:\n",
    "    loaded_model, loaded_features = pickle.load(file)  # Unpack correctly\n",
    "\n",
    "# Debug: Check loaded model type\n",
    "print(\"Loaded model trained on features:\", loaded_features)\n",
    "print(\"Loaded model type:\", type(loaded_model))\n",
    "\n",
    "# ✅ Ensure model can predict\n",
    "if isinstance(loaded_model, GaussianMixture):\n",
    "    sample_input = df[loaded_features].iloc[:5]  # Select test data using correct features\n",
    "    predictions = loaded_model.predict(sample_input)\n",
    "    print(\"Predicted clusters:\", predictions)\n",
    "else:\n",
    "    print(\"Error: Model did not load correctly.\")\n"
   ]
  },
  {
   "cell_type": "code",
   "execution_count": 13,
   "metadata": {},
   "outputs": [
    {
     "name": "stdout",
     "output_type": "stream",
     "text": [
      "Model exists: True\n"
     ]
    }
   ],
   "source": [
    "import os\n",
    "print(\"Model exists:\", os.path.exists(\"models/pcos_gmm_model.pkl\"))\n"
   ]
  },
  {
   "cell_type": "code",
   "execution_count": 2,
   "metadata": {},
   "outputs": [
    {
     "name": "stdout",
     "output_type": "stream",
     "text": [
      "d:\\Health_and_Wellness\\notebooks\n"
     ]
    }
   ],
   "source": [
    "import os\n",
    "print(os.getcwd())  # ✅ This shows the current directory\n"
   ]
  },
  {
   "cell_type": "code",
   "execution_count": 3,
   "metadata": {},
   "outputs": [
    {
     "name": "stdout",
     "output_type": "stream",
     "text": [
      "['d:\\\\Apurva\\\\python310.zip', 'd:\\\\Apurva\\\\DLLs', 'd:\\\\Apurva\\\\lib', 'd:\\\\Apurva', '', 'd:\\\\Apurva\\\\lib\\\\site-packages', 'd:\\\\Apurva\\\\lib\\\\site-packages\\\\win32', 'd:\\\\Apurva\\\\lib\\\\site-packages\\\\win32\\\\lib', 'd:\\\\Apurva\\\\lib\\\\site-packages\\\\Pythonwin', './backend', './backend']\n"
     ]
    }
   ],
   "source": [
    "import sys\n",
    "sys.path.append(\"./backend\")  # Add backend folder\n",
    "\n",
    "print(sys.path)  # ✅ Check if \"./backend\" is listed\n"
   ]
  },
  {
   "cell_type": "code",
   "execution_count": 4,
   "metadata": {},
   "outputs": [
    {
     "name": "stdout",
     "output_type": "stream",
     "text": [
      "False\n"
     ]
    }
   ],
   "source": [
    "import os\n",
    "print(os.path.exists(\"backend/preprocess.py\"))  # ✅ Should print True\n"
   ]
  }
 ],
 "metadata": {
  "kernelspec": {
   "display_name": "Python 3",
   "language": "python",
   "name": "python3"
  },
  "language_info": {
   "codemirror_mode": {
    "name": "ipython",
    "version": 3
   },
   "file_extension": ".py",
   "mimetype": "text/x-python",
   "name": "python",
   "nbconvert_exporter": "python",
   "pygments_lexer": "ipython3",
   "version": "3.10.10"
  }
 },
 "nbformat": 4,
 "nbformat_minor": 2
}
